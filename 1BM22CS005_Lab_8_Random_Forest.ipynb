{
  "nbformat": 4,
  "nbformat_minor": 0,
  "metadata": {
    "colab": {
      "provenance": [],
      "authorship_tag": "ABX9TyP6JLZIuQHgdZxF2iz0Bu7U",
      "include_colab_link": true
    },
    "kernelspec": {
      "name": "python3",
      "display_name": "Python 3"
    },
    "language_info": {
      "name": "python"
    }
  },
  "cells": [
    {
      "cell_type": "markdown",
      "metadata": {
        "id": "view-in-github",
        "colab_type": "text"
      },
      "source": [
        "<a href=\"https://colab.research.google.com/github/AbR04/6thSem-ML-Lab/blob/main/1BM22CS005_Lab_8_Random_Forest.ipynb\" target=\"_parent\"><img src=\"https://colab.research.google.com/assets/colab-badge.svg\" alt=\"Open In Colab\"/></a>"
      ]
    },
    {
      "cell_type": "code",
      "source": [
        "import pandas as pd\n",
        "from sklearn.model_selection import train_test_split\n",
        "from sklearn.ensemble import RandomForestClassifier\n",
        "from sklearn.metrics import accuracy_score, confusion_matrix\n",
        "from sklearn.preprocessing import LabelEncoder\n",
        "import matplotlib.pyplot as plt\n",
        "import seaborn as sns\n",
        "\n",
        "# Load dataset\n",
        "data = pd.read_csv('train.csv')\n",
        "\n",
        "# Separate features and target (Assume last column is target)\n",
        "X = data.iloc[:, :-1]\n",
        "y = data.iloc[:, -1]\n",
        "\n",
        "# Encode categorical features in X\n",
        "X = pd.get_dummies(X)\n",
        "\n",
        "# Encode the target if it's categorical\n",
        "if y.dtype == 'object' or y.dtype.name == 'category':\n",
        "    y = LabelEncoder().fit_transform(y)\n",
        "\n",
        "# Split into train and test sets\n",
        "X_train, X_test, y_train, y_test = train_test_split(X, y, test_size=0.2, random_state=42)\n",
        "\n",
        "# Train Random Forest model\n",
        "rf_model = RandomForestClassifier(random_state=42)\n",
        "rf_model.fit(X_train, y_train)\n",
        "\n",
        "# Predictions\n",
        "y_pred = rf_model.predict(X_test)\n",
        "\n",
        "# Evaluate\n",
        "acc = accuracy_score(y_test, y_pred)\n",
        "cm = confusion_matrix(y_test, y_pred)\n",
        "\n",
        "print(f\"Accuracy Score: {acc:.4f}\")\n",
        "print(\"Confusion Matrix:\")\n",
        "print(cm)\n",
        "\n",
        "# Plot confusion matrix\n",
        "plt.figure(figsize=(6,4))\n",
        "sns.heatmap(cm, annot=True, fmt=\"d\", cmap=\"Blues\", cbar=False)\n",
        "plt.xlabel(\"Predicted\")\n",
        "plt.ylabel(\"Actual\")\n",
        "plt.title(\"Confusion Matrix\")\n",
        "plt.show()\n"
      ],
      "metadata": {
        "colab": {
          "base_uri": "https://localhost:8080/",
          "height": 497
        },
        "id": "SEZI74iMfdTr",
        "outputId": "c876bb85-947a-4014-a754-1d9ad49db0d0"
      },
      "execution_count": null,
      "outputs": [
        {
          "output_type": "stream",
          "name": "stdout",
          "text": [
            "Accuracy Score: 0.7263\n",
            "Confusion Matrix:\n",
            "[[  6   0  37]\n",
            " [  0   6  11]\n",
            " [  0   1 118]]\n"
          ]
        },
        {
          "output_type": "display_data",
          "data": {
            "text/plain": [
              "<Figure size 600x400 with 1 Axes>"
            ],
            "image/png": "[encoded data removed]"
          },
          "metadata": {}
        }
      ]
    },
    {
      "cell_type": "code",
      "execution_count": null,
      "metadata": {
        "colab": {
          "base_uri": "https://localhost:8080/"
        },
        "id": "w7pXn756dok1",
        "outputId": "f4ffb064-06a1-412d-a769-27f7e5878b02"
      },
      "outputs": [
        {
          "output_type": "stream",
          "name": "stdout",
          "text": [
            "Accuracy with default n_estimators=10: 1.0000\n",
            "\n",
            "Fine-tuning n_estimators:\n",
            "  n_estimators=10, Accuracy: 1.0000\n",
            "  n_estimators=50, Accuracy: 1.0000\n",
            "  n_estimators=100, Accuracy: 1.0000\n",
            "  n_estimators=150, Accuracy: 1.0000\n",
            "  n_estimators=200, Accuracy: 1.0000\n",
            "\n",
            "Best score achieved: 1.0000 with n_estimators=10\n"
          ]
        }
      ],
      "source": [
        "import pandas as pd\n",
        "from sklearn.datasets import load_iris\n",
        "from sklearn.model_selection import train_test_split\n",
        "from sklearn.ensemble import RandomForestClassifier\n",
        "from sklearn.metrics import accuracy_score\n",
        "\n",
        "# Load the Iris dataset\n",
        "iris = load_iris()\n",
        "X = iris.data\n",
        "y = iris.target\n",
        "# Create a pandas DataFrame for better visualization (optional)\n",
        "df = pd.DataFrame(data=iris.data, columns=iris.feature_names)\n",
        "df['species'] = iris.target_names[iris.target]\n",
        "\n",
        "# Split the data into training and testing sets\n",
        "# Use random_state for reproducibility\n",
        "X_train, X_test, y_train, y_test = train_test_split(X, y, test_size=0.3, random_state=42)\n",
        "\n",
        "# --- Model with default n_estimators=10 ---\n",
        "# Note: As of scikit-learn 0.22, the default value for n_estimators changed from 10 to 100.\n",
        "# We will explicitly set it to 10 as requested.\n",
        "rf_default = RandomForestClassifier(n_estimators=10, random_state=42)\n",
        "\n",
        "# Train the model\n",
        "rf_default.fit(X_train, y_train)\n",
        "\n",
        "# Make predictions\n",
        "y_pred_default = rf_default.predict(X_test)\n",
        "\n",
        "# Evaluate the model\n",
        "accuracy_default = accuracy_score(y_test, y_pred_default)\n",
        "print(f\"Accuracy with default n_estimators=10: {accuracy_default:.4f}\")\n",
        "\n",
        "# --- Fine-tuning n_estimators ---\n",
        "best_score = 0\n",
        "best_n_estimators = 0\n",
        "estimator_values = [10, 50, 100, 150, 200] # Values to test for n_estimators\n",
        "\n",
        "print(\"\\nFine-tuning n_estimators:\")\n",
        "for n in estimator_values:\n",
        "    # Initialize RandomForestClassifier with current n_estimators\n",
        "    rf_tuned = RandomForestClassifier(n_estimators=n, random_state=42)\n",
        "\n",
        "    # Train the model\n",
        "    rf_tuned.fit(X_train, y_train)\n",
        "\n",
        "    # Make predictions\n",
        "    y_pred_tuned = rf_tuned.predict(X_test)\n",
        "\n",
        "    # Evaluate the model\n",
        "    accuracy_tuned = accuracy_score(y_test, y_pred_tuned)\n",
        "    print(f\"  n_estimators={n}, Accuracy: {accuracy_tuned:.4f}\")\n",
        "\n",
        "    # Check if this score is the best so far\n",
        "    if accuracy_tuned > best_score:\n",
        "        best_score = accuracy_tuned\n",
        "        best_n_estimators = n\n",
        "\n",
        "# Print the best result\n",
        "print(f\"\\nBest score achieved: {best_score:.4f} with n_estimators={best_n_estimators}\")"
      ]
    }
  ]
}