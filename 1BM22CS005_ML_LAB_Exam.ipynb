{
  "nbformat": 4,
  "nbformat_minor": 0,
  "metadata": {
    "colab": {
      "provenance": [],
      "authorship_tag": "ABX9TyN9v5KjZGMWpIXxrMG7c6s1",
      "include_colab_link": true
    },
    "kernelspec": {
      "name": "python3",
      "display_name": "Python 3"
    },
    "language_info": {
      "name": "python"
    }
  },
  "cells": [
    {
      "cell_type": "markdown",
      "metadata": {
        "id": "view-in-github",
        "colab_type": "text"
      },
      "source": [
        "<a href=\"https://colab.research.google.com/github/AbR04/6thSem-ML-Lab/blob/main/1BM22CS005_ML_LAB_Exam.ipynb\" target=\"_parent\"><img src=\"https://colab.research.google.com/assets/colab-badge.svg\" alt=\"Open In Colab\"/></a>"
      ]
    },
    {
      "cell_type": "markdown",
      "source": [
        "Apply K-means and PCA unsupervised model for any dataset and measure the performace metrics and compare the model\n",
        "1. Mesaure the performance of the model with appropiate metrics\n",
        "2. Compare the developed model with oither ML model for the performance comparision"
      ],
      "metadata": {
        "id": "-4-7iX_d1iWo"
      }
    },
    {
      "cell_type": "code",
      "source": [
        "silhouette_kmeans = silhouette_score(X, kmeans_labels)\n",
        "calinski_kmeans = calinski_harabasz_score(X, kmeans_labels)\n",
        "davies_bouldin_kmeans = davies_bouldin_score(X, kmeans_labels)\n",
        "\n",
        "print(f\"\\n--- K-Means Performance on Original Data ---\")\n",
        "print(f\"Silhouette Score: {silhouette_kmeans}\")\n",
        "print(f\"Calinski-Harabasz Score: {calinski_kmeans}\")\n",
        "print(f\"Davies-Bouldin Index: {davies_bouldin_kmeans}\")\n",
        "\n",
        "\n",
        "kmeans_pca = KMeans(n_clusters=3, random_state=42, n_init=10)\n",
        "kmeans_pca_labels = kmeans_pca.fit_predict(X_pca)\n",
        "\n",
        "silhouette_kmeans_pca = silhouette_score(X_pca, kmeans_pca_labels)\n",
        "calinski_kmeans_pca = calinski_harabasz_score(X_pca, kmeans_pca_labels)\n",
        "davies_bouldin_kmeans_pca = davies_bouldin_score(X_pca, kmeans_pca_labels)\n",
        "\n",
        "print(f\"\\n--- K-Means Performance on PCA-reduced Data ---\")\n",
        "print(f\"Silhouette Score: {silhouette_kmeans_pca}\")\n",
        "print(f\"Calinski-Harabasz Score: {calinski_kmeans_pca}\")\n",
        "print(f\"Davies-Bouldin Index: {davies_bouldin_kmeans_pca}\")\n",
        "\n",
        "\n",
        "print(\"\\n--- Performance Comparison (K-Means vs. K-Means on PCA) ---\")\n",
        "print(\"Metric            | K-Means (Original) | K-Means (PCA-reduced)\")\n",
        "print(\"------------------|--------------------|-----------------------\")\n",
        "print(f\"Silhouette Score  | {silhouette_kmeans:.4f}           | {silhouette_kmeans_pca:.4f}\")\n",
        "print(f\"Calinski-Harabasz | {calinski_kmeans:.4f}         | {calinski_kmeans_pca:.4f}\")\n",
        "print(f\"Davies-Bouldin    | {davies_bouldin_kmeans:.4f}           | {davies_bouldin_kmeans_pca:.4f}\")"
      ],
      "metadata": {
        "colab": {
          "base_uri": "https://localhost:8080/"
        },
        "id": "aQiRHIc5AQzP",
        "outputId": "76e3c6d3-3517-443a-a8cd-3fda8bf9136e"
      },
      "execution_count": 8,
      "outputs": [
        {
          "output_type": "stream",
          "name": "stdout",
          "text": [
            "\n",
            "--- K-Means Performance on Original Data ---\n",
            "Silhouette Score: 0.31796622568242083\n",
            "Calinski-Harabasz Score: 392.55837346829185\n",
            "Davies-Bouldin Index: 1.0171495656002185\n",
            "\n",
            "--- K-Means Performance on PCA-reduced Data ---\n",
            "Silhouette Score: 0.5976764219547994\n",
            "Calinski-Harabasz Score: 693.7084334188484\n",
            "Davies-Bouldin Index: 0.5648157434964123\n",
            "\n",
            "--- Performance Comparison (K-Means vs. K-Means on PCA) ---\n",
            "Metric            | K-Means (Original) | K-Means (PCA-reduced)\n",
            "------------------|--------------------|-----------------------\n",
            "Silhouette Score  | 0.3180           | 0.5977\n",
            "Calinski-Harabasz | 392.5584         | 693.7084\n",
            "Davies-Bouldin    | 1.0171           | 0.5648\n"
          ]
        }
      ]
    }
  ]
}